{
 "cells": [
  {
   "cell_type": "code",
   "execution_count": null,
   "id": "94e101a7-fa50-4d5d-8e6e-d57e3e418274",
   "metadata": {},
   "outputs": [],
   "source": [
    "import tweepy\n",
    "\n",
    "# Replace with your actual credentials\n",
    "API_KEY = 'YOUR_API_KEY'\n",
    "API_SECRET = 'YOUR_API_SECRET'\n",
    "ACCESS_TOKEN = 'YOUR_ACCESS_TOKEN'\n",
    "ACCESS_TOKEN_SECRET = 'YOUR_ACCESS_TOKEN_SECRET'\n",
    "\n",
    "# Authenticate with Twitter\n",
    "auth = tweepy.OAuth1UserHandler(API_KEY, API_SECRET, ACCESS_TOKEN, ACCESS_TOKEN_SECRET)\n",
    "api = tweepy.API(auth)\n",
    "\n",
    "# Your tweet message\n",
    "tweet = \"🚀 Hello, Twitter! This tweet was posted using Python. #Python #TwitterAPI\"\n",
    "\n",
    "# Post the tweet\n",
    "try:\n",
    "    api.update_status(tweet)\n",
    "    print(\"✅ Tweet posted successfully!\")\n",
    "except Exception as e:\n",
    "    print(\"❌ Failed to post tweet:\", e)\n"
   ]
  }
 ],
 "metadata": {
  "kernelspec": {
   "display_name": "Python 3 (ipykernel)",
   "language": "python",
   "name": "python3"
  },
  "language_info": {
   "codemirror_mode": {
    "name": "ipython",
    "version": 3
   },
   "file_extension": ".py",
   "mimetype": "text/x-python",
   "name": "python",
   "nbconvert_exporter": "python",
   "pygments_lexer": "ipython3",
   "version": "3.12.7"
  }
 },
 "nbformat": 4,
 "nbformat_minor": 5
}
